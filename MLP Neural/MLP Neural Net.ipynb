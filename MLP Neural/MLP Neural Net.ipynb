{
 "cells": [
  {
   "cell_type": "code",
   "execution_count": 1,
   "metadata": {},
   "outputs": [
    {
     "name": "stdout",
     "output_type": "stream",
     "text": [
      "Final dataset with size: | train (46800L, 10L) | test (11700L, 10L) | \n"
     ]
    }
   ],
   "source": [
    "!python preprocess_data.py -i data.csv -o dataset.data"
   ]
  },
  {
   "cell_type": "code",
   "execution_count": 2,
   "metadata": {},
   "outputs": [],
   "source": [
    "import numpy as np\n",
    "import cPickle as cp"
   ]
  },
  {
   "cell_type": "markdown",
   "metadata": {},
   "source": [
    "### Load the sensor data"
   ]
  },
  {
   "cell_type": "raw",
   "metadata": {},
   "source": [
    "Load the OPPORTUNITY processed dataset. Sensor data is segmented using a sliding window of fixed length. The class associated with each segment corresponds to the gesture which has been observed during that interval. Given a sliding window of length T, we choose the class of the sequence as the label at t=T, or in other words, the label of last sample in the window."
   ]
  },
  {
   "cell_type": "code",
   "execution_count": 3,
   "metadata": {},
   "outputs": [],
   "source": [
    "def load_dataset(filename):\n",
    "\n",
    "    f = file(filename, 'rb')\n",
    "    data = cp.load(f)\n",
    "    f.close()\n",
    "\n",
    "    X_train, y_train = data[0]\n",
    "    X_test, y_test = data[1]\n",
    "\n",
    "    print(\" ..from file {}\".format(filename))\n",
    "    print(\" ..reading instances: train {0}, test {1}\".format(X_train.shape, X_test.shape))\n",
    "\n",
    "    X_train = X_train.astype(np.float32)\n",
    "    X_test = X_test.astype(np.float32)\n",
    "\n",
    "    # The targets are casted to int8 for GPU compatibility.\n",
    "    y_train = y_train.astype(np.uint8)\n",
    "    y_test = y_test.astype(np.uint8)\n",
    "\n",
    "    return X_train, y_train, X_test, y_test"
   ]
  },
  {
   "cell_type": "code",
   "execution_count": 4,
   "metadata": {},
   "outputs": [
    {
     "name": "stdout",
     "output_type": "stream",
     "text": [
      "Loading data...\n",
      " ..from file dataset.data\n",
      " ..reading instances: train (46800L, 10L), test (11700L, 10L)\n"
     ]
    }
   ],
   "source": [
    "print(\"Loading data...\")\n",
    "X_train, y_train, X_test, y_test = load_dataset('dataset.data')"
   ]
  },
  {
   "cell_type": "code",
   "execution_count": 5,
   "metadata": {},
   "outputs": [],
   "source": [
    "first_conc_x = np.concatenate(X_train[0:15, :])\n",
    "for i in range(15, X_train.shape[0], 15):\n",
    "    first_conc_x = np.vstack((first_conc_x, np.concatenate(X_train[i:(i+15), :])))\n",
    "X_train_kat = first_conc_x"
   ]
  },
  {
   "cell_type": "code",
   "execution_count": 6,
   "metadata": {},
   "outputs": [],
   "source": [
    "first_conc_y = np.unique(y_train[0:15])[0]\n",
    "for i in range(15, y_train.shape[0], 15):\n",
    "    first_conc_y = np.vstack((first_conc_y, np.unique(y_train[i:(i+15)])[0]))\n",
    "y_train_kat = first_conc_y"
   ]
  },
  {
   "cell_type": "code",
   "execution_count": 7,
   "metadata": {},
   "outputs": [],
   "source": [
    "first_conc_x = np.concatenate(X_test[0:15, :])\n",
    "for i in range(15, X_test.shape[0], 15):\n",
    "    first_conc_x = np.vstack((first_conc_x, np.concatenate(X_test[i:(i+15), :])))\n",
    "X_test_kat = first_conc_x"
   ]
  },
  {
   "cell_type": "code",
   "execution_count": 8,
   "metadata": {},
   "outputs": [],
   "source": [
    "first_conc_y = np.unique(y_test[0:15])[0]\n",
    "for i in range(15, y_test.shape[0], 15):\n",
    "    first_conc_y = np.vstack((first_conc_y, np.unique(y_test[i:(i+15)])[0]))\n",
    "y_test_kat = first_conc_y"
   ]
  },
  {
   "cell_type": "code",
   "execution_count": 9,
   "metadata": {},
   "outputs": [
    {
     "data": {
      "text/plain": [
       "True"
      ]
     },
     "execution_count": 9,
     "metadata": {},
     "output_type": "execute_result"
    }
   ],
   "source": [
    "y_train_kat.shape[0] == X_train_kat.shape[0]"
   ]
  },
  {
   "cell_type": "code",
   "execution_count": 10,
   "metadata": {},
   "outputs": [
    {
     "data": {
      "text/plain": [
       "True"
      ]
     },
     "execution_count": 10,
     "metadata": {},
     "output_type": "execute_result"
    }
   ],
   "source": [
    "y_test_kat.shape[0] == X_test_kat.shape[0]"
   ]
  },
  {
   "cell_type": "code",
   "execution_count": 11,
   "metadata": {},
   "outputs": [],
   "source": [
    "from sklearn.neural_network import MLPClassifier\n",
    "from sklearn.model_selection import train_test_split\n",
    "from sklearn.metrics import accuracy_score\n",
    "from sklearn.metrics import confusion_matrix"
   ]
  },
  {
   "cell_type": "code",
   "execution_count": 12,
   "metadata": {},
   "outputs": [],
   "source": [
    "clf = MLPClassifier(hidden_layer_sizes=(100,100,100), max_iter=200, alpha=0.0001,\n",
    "                     solver='sgd', verbose=1, random_state=21, tol=0.000000001)"
   ]
  },
  {
   "cell_type": "code",
   "execution_count": 13,
   "metadata": {},
   "outputs": [
    {
     "name": "stdout",
     "output_type": "stream",
     "text": [
      "Iteration 1, loss = 1.35662707\n",
      "Iteration 2, loss = 1.13201413\n",
      "Iteration 3, loss = 1.05376774\n",
      "Iteration 4, loss = 0.99036977\n",
      "Iteration 5, loss = 0.93047570\n",
      "Iteration 6, loss = 0.87133995\n",
      "Iteration 7, loss = 0.81340049\n",
      "Iteration 8, loss = 0.75837692\n",
      "Iteration 9, loss = 0.70723440\n",
      "Iteration 10, loss = 0.66028461\n",
      "Iteration 11, loss = 0.61712863\n",
      "Iteration 12, loss = 0.57787575\n",
      "Iteration 13, loss = 0.54240904\n",
      "Iteration 14, loss = 0.51016215\n",
      "Iteration 15, loss = 0.48090661\n",
      "Iteration 16, loss = 0.45484572\n",
      "Iteration 17, loss = 0.43051336\n",
      "Iteration 18, loss = 0.40904927\n",
      "Iteration 19, loss = 0.38905557\n",
      "Iteration 20, loss = 0.37088071\n",
      "Iteration 21, loss = 0.35445518\n",
      "Iteration 22, loss = 0.33906303\n",
      "Iteration 23, loss = 0.32541413\n",
      "Iteration 24, loss = 0.31220809\n",
      "Iteration 25, loss = 0.29992120\n",
      "Iteration 26, loss = 0.28879208\n",
      "Iteration 27, loss = 0.27845885\n",
      "Iteration 28, loss = 0.26869263\n",
      "Iteration 29, loss = 0.25962618\n",
      "Iteration 30, loss = 0.25094540\n",
      "Iteration 31, loss = 0.24287099\n",
      "Iteration 32, loss = 0.23528274\n",
      "Iteration 33, loss = 0.22816587\n",
      "Iteration 34, loss = 0.22119116\n",
      "Iteration 35, loss = 0.21509403\n",
      "Iteration 36, loss = 0.20893568\n",
      "Iteration 37, loss = 0.20326532\n",
      "Iteration 38, loss = 0.19833337\n",
      "Iteration 39, loss = 0.19332545\n",
      "Iteration 40, loss = 0.18832727\n",
      "Iteration 41, loss = 0.18387300\n",
      "Iteration 42, loss = 0.17918966\n",
      "Iteration 43, loss = 0.17507179\n",
      "Iteration 44, loss = 0.17107372\n",
      "Iteration 45, loss = 0.16704810\n",
      "Iteration 46, loss = 0.16334402\n",
      "Iteration 47, loss = 0.15979309\n",
      "Iteration 48, loss = 0.15663844\n",
      "Iteration 49, loss = 0.15319498\n",
      "Iteration 50, loss = 0.15020032\n",
      "Iteration 51, loss = 0.14693588\n",
      "Iteration 52, loss = 0.14394950\n",
      "Iteration 53, loss = 0.14107763\n",
      "Iteration 54, loss = 0.13841902\n",
      "Iteration 55, loss = 0.13619649\n",
      "Iteration 56, loss = 0.13347775\n",
      "Iteration 57, loss = 0.13069717\n",
      "Iteration 58, loss = 0.12819646\n",
      "Iteration 59, loss = 0.12610621\n",
      "Iteration 60, loss = 0.12359593\n",
      "Iteration 61, loss = 0.12154070\n",
      "Iteration 62, loss = 0.11919918\n",
      "Iteration 63, loss = 0.11721463\n",
      "Iteration 64, loss = 0.11514335\n",
      "Iteration 65, loss = 0.11319631\n",
      "Iteration 66, loss = 0.11141917\n",
      "Iteration 67, loss = 0.10965328\n",
      "Iteration 68, loss = 0.10754230\n",
      "Iteration 69, loss = 0.10608425\n",
      "Iteration 70, loss = 0.10423258\n",
      "Iteration 71, loss = 0.10276303\n",
      "Iteration 72, loss = 0.10115944\n",
      "Iteration 73, loss = 0.09966539\n",
      "Iteration 74, loss = 0.09817639\n",
      "Iteration 75, loss = 0.09670498\n",
      "Iteration 76, loss = 0.09552072\n",
      "Iteration 77, loss = 0.09408127\n",
      "Iteration 78, loss = 0.09308387\n",
      "Iteration 79, loss = 0.09185294\n",
      "Iteration 80, loss = 0.09057412\n",
      "Iteration 81, loss = 0.09007221\n",
      "Iteration 82, loss = 0.08827715\n",
      "Iteration 83, loss = 0.08695205\n",
      "Iteration 84, loss = 0.08581715\n",
      "Iteration 85, loss = 0.08491438\n",
      "Iteration 86, loss = 0.08362426\n",
      "Iteration 87, loss = 0.08250992\n",
      "Iteration 88, loss = 0.08179482\n",
      "Iteration 89, loss = 0.08085060\n",
      "Iteration 90, loss = 0.08005800\n",
      "Iteration 91, loss = 0.07867117\n",
      "Iteration 92, loss = 0.07794442\n",
      "Iteration 93, loss = 0.07719871\n",
      "Iteration 94, loss = 0.07612366\n",
      "Iteration 95, loss = 0.07546600\n",
      "Iteration 96, loss = 0.07442607\n",
      "Iteration 97, loss = 0.07378194\n",
      "Iteration 98, loss = 0.07289123\n",
      "Iteration 99, loss = 0.07215259\n",
      "Iteration 100, loss = 0.07140334\n",
      "Iteration 101, loss = 0.07085142\n",
      "Iteration 102, loss = 0.07011457\n",
      "Iteration 103, loss = 0.06940836\n",
      "Iteration 104, loss = 0.06899056\n",
      "Iteration 105, loss = 0.06819562\n",
      "Iteration 106, loss = 0.06735262\n",
      "Iteration 107, loss = 0.06665137\n",
      "Iteration 108, loss = 0.06616617\n",
      "Iteration 109, loss = 0.06536446\n",
      "Iteration 110, loss = 0.06493536\n",
      "Iteration 111, loss = 0.06441574\n",
      "Iteration 112, loss = 0.06424631\n",
      "Iteration 113, loss = 0.06336579\n",
      "Iteration 114, loss = 0.06265467\n",
      "Iteration 115, loss = 0.06230360\n",
      "Iteration 116, loss = 0.06170677\n",
      "Iteration 117, loss = 0.06136933\n",
      "Iteration 118, loss = 0.06069643\n",
      "Iteration 119, loss = 0.06061274\n",
      "Iteration 120, loss = 0.05961540\n",
      "Iteration 121, loss = 0.05966889\n",
      "Iteration 122, loss = 0.05862885\n",
      "Iteration 123, loss = 0.05841962\n",
      "Iteration 124, loss = 0.05769276\n",
      "Iteration 125, loss = 0.05722081\n",
      "Iteration 126, loss = 0.05670112\n",
      "Iteration 127, loss = 0.05641968\n",
      "Iteration 128, loss = 0.05590798\n",
      "Iteration 129, loss = 0.05541808\n",
      "Iteration 130, loss = 0.05500321\n",
      "Iteration 131, loss = 0.05484152\n",
      "Iteration 132, loss = 0.05420341\n",
      "Iteration 133, loss = 0.05408926\n",
      "Iteration 134, loss = 0.05388082\n",
      "Iteration 135, loss = 0.05324227\n",
      "Iteration 136, loss = 0.05323661\n",
      "Iteration 137, loss = 0.05234381\n",
      "Iteration 138, loss = 0.05184335\n",
      "Iteration 139, loss = 0.05171010\n",
      "Iteration 140, loss = 0.05123358\n",
      "Iteration 141, loss = 0.05061605\n",
      "Iteration 142, loss = 0.05054772\n",
      "Iteration 143, loss = 0.05016230\n",
      "Iteration 144, loss = 0.04991929\n",
      "Iteration 145, loss = 0.04932707\n",
      "Iteration 146, loss = 0.04926721\n",
      "Iteration 147, loss = 0.04870054\n",
      "Iteration 148, loss = 0.04841473\n",
      "Iteration 149, loss = 0.04785545\n",
      "Iteration 150, loss = 0.04756628\n",
      "Iteration 151, loss = 0.04742373\n",
      "Iteration 152, loss = 0.04704044\n",
      "Iteration 153, loss = 0.04657459\n",
      "Iteration 154, loss = 0.04642858\n",
      "Iteration 155, loss = 0.04633153\n",
      "Iteration 156, loss = 0.04575138\n",
      "Iteration 157, loss = 0.04565205\n",
      "Iteration 158, loss = 0.04510579\n",
      "Iteration 159, loss = 0.04488143\n",
      "Iteration 160, loss = 0.04484629\n",
      "Iteration 161, loss = 0.04432963\n",
      "Iteration 162, loss = 0.04397704\n",
      "Iteration 163, loss = 0.04370820\n",
      "Iteration 164, loss = 0.04341947\n",
      "Iteration 165, loss = 0.04329943\n",
      "Iteration 166, loss = 0.04277461\n",
      "Iteration 167, loss = 0.04253429\n",
      "Iteration 168, loss = 0.04222812\n",
      "Iteration 169, loss = 0.04202363\n",
      "Iteration 170, loss = 0.04176175\n",
      "Iteration 171, loss = 0.04137217\n",
      "Iteration 172, loss = 0.04193083\n",
      "Iteration 173, loss = 0.04122995\n",
      "Iteration 174, loss = 0.04086861\n",
      "Iteration 175, loss = 0.04044305\n",
      "Iteration 176, loss = 0.04015610\n",
      "Iteration 177, loss = 0.04008127\n",
      "Iteration 178, loss = 0.03968138\n",
      "Iteration 179, loss = 0.03957390\n",
      "Iteration 180, loss = 0.03942669\n",
      "Iteration 181, loss = 0.03914788\n",
      "Iteration 182, loss = 0.03904464\n",
      "Iteration 183, loss = 0.03890802\n",
      "Iteration 184, loss = 0.03858404\n",
      "Iteration 185, loss = 0.03812798\n",
      "Iteration 186, loss = 0.03815143\n",
      "Iteration 187, loss = 0.03766915\n",
      "Iteration 188, loss = 0.03756319\n",
      "Iteration 189, loss = 0.03731553\n",
      "Iteration 190, loss = 0.03736329\n",
      "Iteration 191, loss = 0.03691486\n",
      "Iteration 192, loss = 0.03675395\n",
      "Iteration 193, loss = 0.03652721\n",
      "Iteration 194, loss = 0.03642589\n",
      "Iteration 195, loss = 0.03605847\n",
      "Iteration 196, loss = 0.03577630\n",
      "Iteration 197, loss = 0.03582029\n",
      "Iteration 198, loss = 0.03570619\n",
      "Iteration 199, loss = 0.03524858\n",
      "Iteration 200, loss = 0.03501406\n"
     ]
    },
    {
     "name": "stderr",
     "output_type": "stream",
     "text": [
      "C:\\Users\\DELL\\Anaconda3\\envs\\py27\\lib\\site-packages\\sklearn\\neural_network\\multilayer_perceptron.py:564: ConvergenceWarning: Stochastic Optimizer: Maximum iterations (200) reached and the optimization hasn't converged yet.\n",
      "  % self.max_iter, ConvergenceWarning)\n"
     ]
    },
    {
     "data": {
      "text/plain": [
       "MLPClassifier(activation='relu', alpha=0.0001, batch_size='auto', beta_1=0.9,\n",
       "       beta_2=0.999, early_stopping=False, epsilon=1e-08,\n",
       "       hidden_layer_sizes=(100, 100, 100), learning_rate='constant',\n",
       "       learning_rate_init=0.001, max_iter=200, momentum=0.9,\n",
       "       nesterovs_momentum=True, power_t=0.5, random_state=21, shuffle=True,\n",
       "       solver='sgd', tol=1e-09, validation_fraction=0.1, verbose=1,\n",
       "       warm_start=False)"
      ]
     },
     "execution_count": 13,
     "metadata": {},
     "output_type": "execute_result"
    }
   ],
   "source": [
    "clf.fit(X_train_kat, y_train_kat.flatten())"
   ]
  },
  {
   "cell_type": "code",
   "execution_count": 14,
   "metadata": {},
   "outputs": [],
   "source": [
    "y_pred_kat = clf.predict(X_test_kat)"
   ]
  },
  {
   "cell_type": "code",
   "execution_count": 15,
   "metadata": {},
   "outputs": [
    {
     "data": {
      "text/plain": [
       "0.9910256410256411"
      ]
     },
     "execution_count": 15,
     "metadata": {},
     "output_type": "execute_result"
    }
   ],
   "source": [
    "accuracy_score(y_test_kat.flatten(), y_pred_kat)\n"
   ]
  },
  {
   "cell_type": "markdown",
   "metadata": {},
   "source": [
    "### Test Dataset"
   ]
  },
  {
   "cell_type": "code",
   "execution_count": 16,
   "metadata": {},
   "outputs": [],
   "source": [
    "import os\n",
    "import zipfile\n",
    "import argparse\n",
    "import numpy as np\n",
    "import cPickle as cp\n",
    "from io import BytesIO\n",
    "from pandas import Series\n",
    "import random"
   ]
  },
  {
   "cell_type": "code",
   "execution_count": 17,
   "metadata": {},
   "outputs": [],
   "source": [
    "data = np.genfromtxt('testdata.csv', delimiter=',')"
   ]
  },
  {
   "cell_type": "code",
   "execution_count": 18,
   "metadata": {},
   "outputs": [],
   "source": [
    "NB_SENSOR_CHANNELS = 10\n",
    "\n",
    "NORM_MAX_THRESHOLDS = [200, 200, 200, 250000, 250000, 250000, 100, 100, 100, 100]\n",
    "\n",
    "NORM_MIN_THRESHOLDS = [-200, -200, -200, -250000, -250000, -250000, -100, -100, -100, -100]"
   ]
  },
  {
   "cell_type": "code",
   "execution_count": 19,
   "metadata": {},
   "outputs": [],
   "source": [
    "def normalize(data, max_list, min_list):\n",
    "    max_list, min_list = np.array(max_list), np.array(min_list)\n",
    "    diffs = max_list - min_list\n",
    "    for i in np.arange(data.shape[1]):\n",
    "        data[:, i] = (data[:, i]-min_list[i])/diffs[i]\n",
    "    data[data > 1] = 0.99\n",
    "    data[data < 0] = 0.00\n",
    "    return data"
   ]
  },
  {
   "cell_type": "code",
   "execution_count": 20,
   "metadata": {},
   "outputs": [],
   "source": [
    "def process_dataset_file(dataset):\n",
    "    # Colums are segmentd into features and labels\n",
    "    data_x = dataset\n",
    "\n",
    "    # Perform linear interpolation\n",
    "    data_x = np.array([Series(i).interpolate() for i in data_x.T]).T\n",
    "\n",
    "    # Remaining missing data are converted to zero\n",
    "    data_x[np.isnan(data_x)] = 0\n",
    "\n",
    "    # All sensor channels are normalized\n",
    "    data_x = normalize(data_x, NORM_MAX_THRESHOLDS, NORM_MIN_THRESHOLDS)\n",
    "\n",
    "    return data_x"
   ]
  },
  {
   "cell_type": "code",
   "execution_count": 21,
   "metadata": {},
   "outputs": [],
   "source": [
    "def generate_data(data):\n",
    "    data_x = np.empty((0, 10))\n",
    "    x = process_dataset_file(data)\n",
    "    data_x = np.vstack((data_x, x))\n",
    "\n",
    "    return data_x"
   ]
  },
  {
   "cell_type": "code",
   "execution_count": 22,
   "metadata": {},
   "outputs": [],
   "source": [
    "test_data = generate_data(data)"
   ]
  },
  {
   "cell_type": "code",
   "execution_count": 23,
   "metadata": {},
   "outputs": [],
   "source": [
    "first_conc_x = np.concatenate(test_data[0:15, :])\n",
    "for i in range(15, test_data.shape[0], 15):\n",
    "    first_conc_x = np.vstack((first_conc_x, np.concatenate(test_data[i:(i+15), :])))\n",
    "test_data_kat = first_conc_x"
   ]
  },
  {
   "cell_type": "code",
   "execution_count": 24,
   "metadata": {},
   "outputs": [
    {
     "data": {
      "text/plain": [
       "array([2, 2, 2, 2, 3, 3, 3, 3, 1, 1, 1, 1, 2, 2, 2, 2, 3, 4, 4, 4, 4, 4,\n",
       "       3, 3, 3, 4, 3, 3, 4, 4, 4, 4, 2, 2, 3, 3, 1, 1, 1, 1, 1, 1, 1, 1,\n",
       "       1, 1], dtype=uint8)"
      ]
     },
     "execution_count": 24,
     "metadata": {},
     "output_type": "execute_result"
    }
   ],
   "source": [
    "clf.predict(test_data_kat).flatten()"
   ]
  },
  {
   "cell_type": "code",
   "execution_count": null,
   "metadata": {},
   "outputs": [],
   "source": []
  },
  {
   "cell_type": "code",
   "execution_count": null,
   "metadata": {},
   "outputs": [],
   "source": []
  }
 ],
 "metadata": {
  "kernelspec": {
   "display_name": "Python 2",
   "language": "python",
   "name": "python2"
  },
  "language_info": {
   "codemirror_mode": {
    "name": "ipython",
    "version": 2
   },
   "file_extension": ".py",
   "mimetype": "text/x-python",
   "name": "python",
   "nbconvert_exporter": "python",
   "pygments_lexer": "ipython2",
   "version": "2.7.15"
  }
 },
 "nbformat": 4,
 "nbformat_minor": 1
}
