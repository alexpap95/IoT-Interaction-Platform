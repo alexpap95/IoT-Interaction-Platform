{
 "cells": [
  {
   "cell_type": "code",
   "execution_count": 1,
   "metadata": {},
   "outputs": [
    {
     "name": "stdout",
     "output_type": "stream",
     "text": [
      "Final dataset with size: | train (46800L, 10L) | test (11700L, 10L) | \n"
     ]
    }
   ],
   "source": [
    "!python preprocess_data.py -i data.csv -o dataset.data"
   ]
  },
  {
   "cell_type": "code",
   "execution_count": 2,
   "metadata": {},
   "outputs": [],
   "source": [
    "import numpy as np\n",
    "import cPickle as cp"
   ]
  },
  {
   "cell_type": "markdown",
   "metadata": {},
   "source": [
    "### Load the sensor data"
   ]
  },
  {
   "cell_type": "raw",
   "metadata": {},
   "source": [
    "Load the OPPORTUNITY processed dataset. Sensor data is segmented using a sliding window of fixed length. The class associated with each segment corresponds to the gesture which has been observed during that interval. Given a sliding window of length T, we choose the class of the sequence as the label at t=T, or in other words, the label of last sample in the window."
   ]
  },
  {
   "cell_type": "code",
   "execution_count": 3,
   "metadata": {},
   "outputs": [],
   "source": [
    "def load_dataset(filename):\n",
    "\n",
    "    f = file(filename, 'rb')\n",
    "    data = cp.load(f)\n",
    "    f.close()\n",
    "\n",
    "    X_train, y_train = data[0]\n",
    "    X_test, y_test = data[1]\n",
    "\n",
    "    print(\" ..from file {}\".format(filename))\n",
    "    print(\" ..reading instances: train {0}, test {1}\".format(X_train.shape, X_test.shape))\n",
    "\n",
    "    X_train = X_train.astype(np.float32)\n",
    "    X_test = X_test.astype(np.float32)\n",
    "\n",
    "    # The targets are casted to int8 for GPU compatibility.\n",
    "    y_train = y_train.astype(np.uint8)\n",
    "    y_test = y_test.astype(np.uint8)\n",
    "\n",
    "    return X_train, y_train, X_test, y_test"
   ]
  },
  {
   "cell_type": "code",
   "execution_count": 4,
   "metadata": {},
   "outputs": [
    {
     "name": "stdout",
     "output_type": "stream",
     "text": [
      "Loading data...\n",
      " ..from file dataset.data\n",
      " ..reading instances: train (46800L, 10L), test (11700L, 10L)\n"
     ]
    }
   ],
   "source": [
    "print(\"Loading data...\")\n",
    "X_train, y_train, X_test, y_test = load_dataset('dataset.data')"
   ]
  },
  {
   "cell_type": "code",
   "execution_count": 5,
   "metadata": {},
   "outputs": [],
   "source": [
    "first_conc_x = np.concatenate(X_train[0:15, :])\n",
    "for i in range(15, X_train.shape[0], 15):\n",
    "    first_conc_x = np.vstack((first_conc_x, np.concatenate(X_train[i:(i+15), :])))\n",
    "X_train_kat = first_conc_x"
   ]
  },
  {
   "cell_type": "code",
   "execution_count": 6,
   "metadata": {},
   "outputs": [],
   "source": [
    "first_conc_y = np.unique(y_train[0:15])[0]\n",
    "for i in range(15, y_train.shape[0], 15):\n",
    "    first_conc_y = np.vstack((first_conc_y, np.unique(y_train[i:(i+15)])[0]))\n",
    "y_train_kat = first_conc_y"
   ]
  },
  {
   "cell_type": "code",
   "execution_count": 7,
   "metadata": {},
   "outputs": [],
   "source": [
    "first_conc_x = np.concatenate(X_test[0:15, :])\n",
    "for i in range(15, X_test.shape[0], 15):\n",
    "    first_conc_x = np.vstack((first_conc_x, np.concatenate(X_test[i:(i+15), :])))\n",
    "X_test_kat = first_conc_x"
   ]
  },
  {
   "cell_type": "code",
   "execution_count": 8,
   "metadata": {},
   "outputs": [],
   "source": [
    "first_conc_y = np.unique(y_test[0:15])[0]\n",
    "for i in range(15, y_test.shape[0], 15):\n",
    "    first_conc_y = np.vstack((first_conc_y, np.unique(y_test[i:(i+15)])[0]))\n",
    "y_test_kat = first_conc_y"
   ]
  },
  {
   "cell_type": "code",
   "execution_count": 9,
   "metadata": {},
   "outputs": [
    {
     "data": {
      "text/plain": [
       "True"
      ]
     },
     "execution_count": 9,
     "metadata": {},
     "output_type": "execute_result"
    }
   ],
   "source": [
    "y_train_kat.shape[0] == X_train_kat.shape[0]"
   ]
  },
  {
   "cell_type": "code",
   "execution_count": 10,
   "metadata": {},
   "outputs": [
    {
     "data": {
      "text/plain": [
       "True"
      ]
     },
     "execution_count": 10,
     "metadata": {},
     "output_type": "execute_result"
    }
   ],
   "source": [
    "y_test_kat.shape[0] == X_test_kat.shape[0]"
   ]
  },
  {
   "cell_type": "code",
   "execution_count": 11,
   "metadata": {},
   "outputs": [],
   "source": [
    "from sklearn.neural_network import MLPClassifier\n",
    "from sklearn.model_selection import train_test_split\n",
    "from sklearn.metrics import accuracy_score\n",
    "from sklearn.metrics import confusion_matrix"
   ]
  },
  {
   "cell_type": "code",
   "execution_count": 12,
   "metadata": {},
   "outputs": [],
   "source": [
    "clf = MLPClassifier(hidden_layer_sizes=(100,100,100), max_iter=200, alpha=0.0001,\n",
    "                     solver='sgd', verbose=1, random_state=21, tol=0.000000001)"
   ]
  },
  {
   "cell_type": "code",
   "execution_count": 13,
   "metadata": {},
   "outputs": [
    {
     "name": "stdout",
     "output_type": "stream",
     "text": [
      "Iteration 1, loss = 1.35731456\n",
      "Iteration 2, loss = 1.13865782\n",
      "Iteration 3, loss = 1.06228834\n",
      "Iteration 4, loss = 0.99882986\n",
      "Iteration 5, loss = 0.93860304\n",
      "Iteration 6, loss = 0.87869823\n",
      "Iteration 7, loss = 0.82079452\n",
      "Iteration 8, loss = 0.76600141\n",
      "Iteration 9, loss = 0.71467536\n",
      "Iteration 10, loss = 0.66762339\n",
      "Iteration 11, loss = 0.62399622\n",
      "Iteration 12, loss = 0.58464582\n",
      "Iteration 13, loss = 0.54889805\n",
      "Iteration 14, loss = 0.51677896\n",
      "Iteration 15, loss = 0.48761358\n",
      "Iteration 16, loss = 0.46128477\n",
      "Iteration 17, loss = 0.43754478\n",
      "Iteration 18, loss = 0.41606809\n",
      "Iteration 19, loss = 0.39631678\n",
      "Iteration 20, loss = 0.37852484\n",
      "Iteration 21, loss = 0.36202899\n",
      "Iteration 22, loss = 0.34680196\n",
      "Iteration 23, loss = 0.33304763\n",
      "Iteration 24, loss = 0.31987581\n",
      "Iteration 25, loss = 0.30762245\n",
      "Iteration 26, loss = 0.29669457\n",
      "Iteration 27, loss = 0.28566099\n",
      "Iteration 28, loss = 0.27568217\n",
      "Iteration 29, loss = 0.26598326\n",
      "Iteration 30, loss = 0.25705054\n",
      "Iteration 31, loss = 0.24877697\n",
      "Iteration 32, loss = 0.24116741\n",
      "Iteration 33, loss = 0.23425654\n",
      "Iteration 34, loss = 0.22700773\n",
      "Iteration 35, loss = 0.22072779\n",
      "Iteration 36, loss = 0.21464262\n",
      "Iteration 37, loss = 0.20868586\n",
      "Iteration 38, loss = 0.20347635\n",
      "Iteration 39, loss = 0.19816364\n",
      "Iteration 40, loss = 0.19280314\n",
      "Iteration 41, loss = 0.18829408\n",
      "Iteration 42, loss = 0.18372192\n",
      "Iteration 43, loss = 0.17929861\n",
      "Iteration 44, loss = 0.17486618\n",
      "Iteration 45, loss = 0.17109501\n",
      "Iteration 46, loss = 0.16711071\n",
      "Iteration 47, loss = 0.16381710\n",
      "Iteration 48, loss = 0.15993919\n",
      "Iteration 49, loss = 0.15651572\n",
      "Iteration 50, loss = 0.15318058\n",
      "Iteration 51, loss = 0.15016241\n",
      "Iteration 52, loss = 0.14707360\n",
      "Iteration 53, loss = 0.14400675\n",
      "Iteration 54, loss = 0.14115335\n",
      "Iteration 55, loss = 0.13832978\n",
      "Iteration 56, loss = 0.13574913\n",
      "Iteration 57, loss = 0.13334992\n",
      "Iteration 58, loss = 0.13099558\n",
      "Iteration 59, loss = 0.12843062\n",
      "Iteration 60, loss = 0.12626307\n",
      "Iteration 61, loss = 0.12379655\n",
      "Iteration 62, loss = 0.12191820\n",
      "Iteration 63, loss = 0.11950482\n",
      "Iteration 64, loss = 0.11738878\n",
      "Iteration 65, loss = 0.11559604\n",
      "Iteration 66, loss = 0.11350740\n",
      "Iteration 67, loss = 0.11158127\n",
      "Iteration 68, loss = 0.10989839\n",
      "Iteration 69, loss = 0.10799411\n",
      "Iteration 70, loss = 0.10634243\n",
      "Iteration 71, loss = 0.10452663\n",
      "Iteration 72, loss = 0.10278663\n",
      "Iteration 73, loss = 0.10124381\n",
      "Iteration 74, loss = 0.09963310\n",
      "Iteration 75, loss = 0.09843344\n",
      "Iteration 76, loss = 0.09681993\n",
      "Iteration 77, loss = 0.09573518\n",
      "Iteration 78, loss = 0.09410972\n",
      "Iteration 79, loss = 0.09278797\n",
      "Iteration 80, loss = 0.09132543\n",
      "Iteration 81, loss = 0.09014646\n",
      "Iteration 82, loss = 0.08884211\n",
      "Iteration 83, loss = 0.08755622\n",
      "Iteration 84, loss = 0.08653803\n",
      "Iteration 85, loss = 0.08528765\n",
      "Iteration 86, loss = 0.08431980\n",
      "Iteration 87, loss = 0.08323185\n",
      "Iteration 88, loss = 0.08212660\n",
      "Iteration 89, loss = 0.08105348\n",
      "Iteration 90, loss = 0.08011570\n",
      "Iteration 91, loss = 0.07915639\n",
      "Iteration 92, loss = 0.07801560\n",
      "Iteration 93, loss = 0.07708823\n",
      "Iteration 94, loss = 0.07626805\n",
      "Iteration 95, loss = 0.07533185\n",
      "Iteration 96, loss = 0.07454932\n",
      "Iteration 97, loss = 0.07360546\n",
      "Iteration 98, loss = 0.07291911\n",
      "Iteration 99, loss = 0.07198962\n",
      "Iteration 100, loss = 0.07165289\n",
      "Iteration 101, loss = 0.07122117\n",
      "Iteration 102, loss = 0.07013098\n",
      "Iteration 103, loss = 0.06934271\n",
      "Iteration 104, loss = 0.06866070\n",
      "Iteration 105, loss = 0.06796320\n",
      "Iteration 106, loss = 0.06707981\n",
      "Iteration 107, loss = 0.06647097\n",
      "Iteration 108, loss = 0.06590694\n",
      "Iteration 109, loss = 0.06528283\n",
      "Iteration 110, loss = 0.06464784\n",
      "Iteration 111, loss = 0.06411951\n",
      "Iteration 112, loss = 0.06350459\n",
      "Iteration 113, loss = 0.06289433\n",
      "Iteration 114, loss = 0.06228972\n",
      "Iteration 115, loss = 0.06176200\n",
      "Iteration 116, loss = 0.06131892\n",
      "Iteration 117, loss = 0.06098100\n",
      "Iteration 118, loss = 0.06016857\n",
      "Iteration 119, loss = 0.05970875\n",
      "Iteration 120, loss = 0.05925373\n",
      "Iteration 121, loss = 0.05903245\n",
      "Iteration 122, loss = 0.05839702\n",
      "Iteration 123, loss = 0.05785085\n",
      "Iteration 124, loss = 0.05736475\n",
      "Iteration 125, loss = 0.05709676\n",
      "Iteration 126, loss = 0.05656042\n",
      "Iteration 127, loss = 0.05606222\n",
      "Iteration 128, loss = 0.05573147\n",
      "Iteration 129, loss = 0.05513904\n",
      "Iteration 130, loss = 0.05468926\n",
      "Iteration 131, loss = 0.05423053\n",
      "Iteration 132, loss = 0.05421886\n",
      "Iteration 133, loss = 0.05336219\n",
      "Iteration 134, loss = 0.05305179\n",
      "Iteration 135, loss = 0.05268634\n",
      "Iteration 136, loss = 0.05220548\n",
      "Iteration 137, loss = 0.05199350\n",
      "Iteration 138, loss = 0.05155558\n",
      "Iteration 139, loss = 0.05106664\n",
      "Iteration 140, loss = 0.05069727\n",
      "Iteration 141, loss = 0.05053608\n",
      "Iteration 142, loss = 0.05030329\n",
      "Iteration 143, loss = 0.04978325\n",
      "Iteration 144, loss = 0.04953168\n",
      "Iteration 145, loss = 0.04905016\n",
      "Iteration 146, loss = 0.04867663\n",
      "Iteration 147, loss = 0.04842864\n",
      "Iteration 148, loss = 0.04799051\n",
      "Iteration 149, loss = 0.04767821\n",
      "Iteration 150, loss = 0.04751170\n",
      "Iteration 151, loss = 0.04704320\n",
      "Iteration 152, loss = 0.04681909\n",
      "Iteration 153, loss = 0.04643213\n",
      "Iteration 154, loss = 0.04618240\n",
      "Iteration 155, loss = 0.04600096\n",
      "Iteration 156, loss = 0.04559356\n",
      "Iteration 157, loss = 0.04571022\n",
      "Iteration 158, loss = 0.04535572\n",
      "Iteration 159, loss = 0.04477201\n",
      "Iteration 160, loss = 0.04440333\n",
      "Iteration 161, loss = 0.04423428\n",
      "Iteration 162, loss = 0.04455730\n",
      "Iteration 163, loss = 0.04379295\n",
      "Iteration 164, loss = 0.04345681\n",
      "Iteration 165, loss = 0.04327037\n",
      "Iteration 166, loss = 0.04272412\n",
      "Iteration 167, loss = 0.04253885\n",
      "Iteration 168, loss = 0.04240575\n",
      "Iteration 169, loss = 0.04216370\n",
      "Iteration 170, loss = 0.04197026\n",
      "Iteration 171, loss = 0.04174898\n",
      "Iteration 172, loss = 0.04157699\n",
      "Iteration 173, loss = 0.04106564\n",
      "Iteration 174, loss = 0.04100288\n",
      "Iteration 175, loss = 0.04055308\n",
      "Iteration 176, loss = 0.04031996\n",
      "Iteration 177, loss = 0.04012736\n",
      "Iteration 178, loss = 0.04008550\n",
      "Iteration 179, loss = 0.04013807\n",
      "Iteration 180, loss = 0.03953926\n",
      "Iteration 181, loss = 0.03927800\n",
      "Iteration 182, loss = 0.03910678\n",
      "Iteration 183, loss = 0.03892628\n",
      "Iteration 184, loss = 0.03852030\n",
      "Iteration 185, loss = 0.03834761\n",
      "Iteration 186, loss = 0.03820738\n",
      "Iteration 187, loss = 0.03812101\n",
      "Iteration 188, loss = 0.03772595\n",
      "Iteration 189, loss = 0.03746916\n",
      "Iteration 190, loss = 0.03718836\n",
      "Iteration 191, loss = 0.03718951\n",
      "Iteration 192, loss = 0.03705317\n",
      "Iteration 193, loss = 0.03669780\n",
      "Iteration 194, loss = 0.03638573\n",
      "Iteration 195, loss = 0.03659084\n",
      "Iteration 196, loss = 0.03651564\n",
      "Iteration 197, loss = 0.03580319\n",
      "Iteration 198, loss = 0.03583136\n",
      "Iteration 199, loss = 0.03566309\n",
      "Iteration 200, loss = 0.03558340\n"
     ]
    },
    {
     "name": "stderr",
     "output_type": "stream",
     "text": [
      "C:\\Users\\DELL\\Anaconda3\\envs\\py27\\lib\\site-packages\\sklearn\\neural_network\\multilayer_perceptron.py:564: ConvergenceWarning: Stochastic Optimizer: Maximum iterations (200) reached and the optimization hasn't converged yet.\n",
      "  % self.max_iter, ConvergenceWarning)\n"
     ]
    },
    {
     "data": {
      "text/plain": [
       "MLPClassifier(activation='relu', alpha=0.0001, batch_size='auto', beta_1=0.9,\n",
       "       beta_2=0.999, early_stopping=False, epsilon=1e-08,\n",
       "       hidden_layer_sizes=(100, 100, 100), learning_rate='constant',\n",
       "       learning_rate_init=0.001, max_iter=200, momentum=0.9,\n",
       "       nesterovs_momentum=True, power_t=0.5, random_state=21, shuffle=True,\n",
       "       solver='sgd', tol=1e-09, validation_fraction=0.1, verbose=1,\n",
       "       warm_start=False)"
      ]
     },
     "execution_count": 13,
     "metadata": {},
     "output_type": "execute_result"
    }
   ],
   "source": [
    "clf.fit(X_train_kat, y_train_kat.flatten())"
   ]
  },
  {
   "cell_type": "code",
   "execution_count": 14,
   "metadata": {},
   "outputs": [],
   "source": [
    "y_pred_kat = clf.predict(X_test_kat)"
   ]
  },
  {
   "cell_type": "code",
   "execution_count": 15,
   "metadata": {},
   "outputs": [
    {
     "data": {
      "text/plain": [
       "0.9923076923076923"
      ]
     },
     "execution_count": 15,
     "metadata": {},
     "output_type": "execute_result"
    }
   ],
   "source": [
    "accuracy_score(y_test_kat.flatten(), y_pred_kat)\n"
   ]
  },
  {
   "cell_type": "markdown",
   "metadata": {},
   "source": [
    "### Test Dataset"
   ]
  },
  {
   "cell_type": "code",
   "execution_count": 16,
   "metadata": {},
   "outputs": [],
   "source": [
    "import os\n",
    "import zipfile\n",
    "import argparse\n",
    "import numpy as np\n",
    "import cPickle as cp\n",
    "from io import BytesIO\n",
    "from pandas import Series\n",
    "import random"
   ]
  },
  {
   "cell_type": "code",
   "execution_count": 17,
   "metadata": {},
   "outputs": [
    {
     "ename": "IOError",
     "evalue": "testdata.csv not found.",
     "output_type": "error",
     "traceback": [
      "\u001b[1;31m\u001b[0m",
      "\u001b[1;31mIOError\u001b[0mTraceback (most recent call last)",
      "\u001b[1;32m<ipython-input-17-6520ebab3227>\u001b[0m in \u001b[0;36m<module>\u001b[1;34m()\u001b[0m\n\u001b[1;32m----> 1\u001b[1;33m \u001b[0mdata\u001b[0m \u001b[1;33m=\u001b[0m \u001b[0mnp\u001b[0m\u001b[1;33m.\u001b[0m\u001b[0mgenfromtxt\u001b[0m\u001b[1;33m(\u001b[0m\u001b[1;34m'testdata.csv'\u001b[0m\u001b[1;33m,\u001b[0m \u001b[0mdelimiter\u001b[0m\u001b[1;33m=\u001b[0m\u001b[1;34m','\u001b[0m\u001b[1;33m)\u001b[0m\u001b[1;33m\u001b[0m\u001b[0m\n\u001b[0m",
      "\u001b[1;32mC:\\Users\\DELL\\Anaconda3\\envs\\py27\\lib\\site-packages\\numpy\\lib\\npyio.pyc\u001b[0m in \u001b[0;36mgenfromtxt\u001b[1;34m(fname, dtype, comments, delimiter, skip_header, skip_footer, converters, missing_values, filling_values, usecols, names, excludelist, deletechars, replace_space, autostrip, case_sensitive, defaultfmt, unpack, usemask, loose, invalid_raise, max_rows, encoding)\u001b[0m\n\u001b[0;32m   1698\u001b[0m             \u001b[0mfname\u001b[0m \u001b[1;33m=\u001b[0m \u001b[0mstr\u001b[0m\u001b[1;33m(\u001b[0m\u001b[0mfname\u001b[0m\u001b[1;33m)\u001b[0m\u001b[1;33m\u001b[0m\u001b[0m\n\u001b[0;32m   1699\u001b[0m         \u001b[1;32mif\u001b[0m \u001b[0misinstance\u001b[0m\u001b[1;33m(\u001b[0m\u001b[0mfname\u001b[0m\u001b[1;33m,\u001b[0m \u001b[0mbasestring\u001b[0m\u001b[1;33m)\u001b[0m\u001b[1;33m:\u001b[0m\u001b[1;33m\u001b[0m\u001b[0m\n\u001b[1;32m-> 1700\u001b[1;33m             \u001b[0mfhd\u001b[0m \u001b[1;33m=\u001b[0m \u001b[0miter\u001b[0m\u001b[1;33m(\u001b[0m\u001b[0mnp\u001b[0m\u001b[1;33m.\u001b[0m\u001b[0mlib\u001b[0m\u001b[1;33m.\u001b[0m\u001b[0m_datasource\u001b[0m\u001b[1;33m.\u001b[0m\u001b[0mopen\u001b[0m\u001b[1;33m(\u001b[0m\u001b[0mfname\u001b[0m\u001b[1;33m,\u001b[0m \u001b[1;34m'rt'\u001b[0m\u001b[1;33m,\u001b[0m \u001b[0mencoding\u001b[0m\u001b[1;33m=\u001b[0m\u001b[0mencoding\u001b[0m\u001b[1;33m)\u001b[0m\u001b[1;33m)\u001b[0m\u001b[1;33m\u001b[0m\u001b[0m\n\u001b[0m\u001b[0;32m   1701\u001b[0m             \u001b[0mown_fhd\u001b[0m \u001b[1;33m=\u001b[0m \u001b[0mTrue\u001b[0m\u001b[1;33m\u001b[0m\u001b[0m\n\u001b[0;32m   1702\u001b[0m         \u001b[1;32melse\u001b[0m\u001b[1;33m:\u001b[0m\u001b[1;33m\u001b[0m\u001b[0m\n",
      "\u001b[1;32mC:\\Users\\DELL\\Anaconda3\\envs\\py27\\lib\\site-packages\\numpy\\lib\\_datasource.pyc\u001b[0m in \u001b[0;36mopen\u001b[1;34m(path, mode, destpath, encoding, newline)\u001b[0m\n\u001b[0;32m    260\u001b[0m \u001b[1;33m\u001b[0m\u001b[0m\n\u001b[0;32m    261\u001b[0m     \u001b[0mds\u001b[0m \u001b[1;33m=\u001b[0m \u001b[0mDataSource\u001b[0m\u001b[1;33m(\u001b[0m\u001b[0mdestpath\u001b[0m\u001b[1;33m)\u001b[0m\u001b[1;33m\u001b[0m\u001b[0m\n\u001b[1;32m--> 262\u001b[1;33m     \u001b[1;32mreturn\u001b[0m \u001b[0mds\u001b[0m\u001b[1;33m.\u001b[0m\u001b[0mopen\u001b[0m\u001b[1;33m(\u001b[0m\u001b[0mpath\u001b[0m\u001b[1;33m,\u001b[0m \u001b[0mmode\u001b[0m\u001b[1;33m,\u001b[0m \u001b[0mencoding\u001b[0m\u001b[1;33m=\u001b[0m\u001b[0mencoding\u001b[0m\u001b[1;33m,\u001b[0m \u001b[0mnewline\u001b[0m\u001b[1;33m=\u001b[0m\u001b[0mnewline\u001b[0m\u001b[1;33m)\u001b[0m\u001b[1;33m\u001b[0m\u001b[0m\n\u001b[0m\u001b[0;32m    263\u001b[0m \u001b[1;33m\u001b[0m\u001b[0m\n\u001b[0;32m    264\u001b[0m \u001b[1;33m\u001b[0m\u001b[0m\n",
      "\u001b[1;32mC:\\Users\\DELL\\Anaconda3\\envs\\py27\\lib\\site-packages\\numpy\\lib\\_datasource.pyc\u001b[0m in \u001b[0;36mopen\u001b[1;34m(self, path, mode, encoding, newline)\u001b[0m\n\u001b[0;32m    616\u001b[0m                                       encoding=encoding, newline=newline)\n\u001b[0;32m    617\u001b[0m         \u001b[1;32melse\u001b[0m\u001b[1;33m:\u001b[0m\u001b[1;33m\u001b[0m\u001b[0m\n\u001b[1;32m--> 618\u001b[1;33m             \u001b[1;32mraise\u001b[0m \u001b[0mIOError\u001b[0m\u001b[1;33m(\u001b[0m\u001b[1;34m\"%s not found.\"\u001b[0m \u001b[1;33m%\u001b[0m \u001b[0mpath\u001b[0m\u001b[1;33m)\u001b[0m\u001b[1;33m\u001b[0m\u001b[0m\n\u001b[0m\u001b[0;32m    619\u001b[0m \u001b[1;33m\u001b[0m\u001b[0m\n\u001b[0;32m    620\u001b[0m \u001b[1;33m\u001b[0m\u001b[0m\n",
      "\u001b[1;31mIOError\u001b[0m: testdata.csv not found."
     ]
    }
   ],
   "source": [
    "data = np.genfromtxt('testdata.csv', delimiter=',')"
   ]
  },
  {
   "cell_type": "code",
   "execution_count": null,
   "metadata": {},
   "outputs": [],
   "source": [
    "NB_SENSOR_CHANNELS = 10\n",
    "\n",
    "NORM_MAX_THRESHOLDS = [200, 200, 200, 250000, 250000, 250000, 100, 100, 100, 100]\n",
    "\n",
    "NORM_MIN_THRESHOLDS = [-200, -200, -200, -250000, -250000, -250000, -100, -100, -100, -100]"
   ]
  },
  {
   "cell_type": "code",
   "execution_count": null,
   "metadata": {},
   "outputs": [],
   "source": [
    "def normalize(data, max_list, min_list):\n",
    "    max_list, min_list = np.array(max_list), np.array(min_list)\n",
    "    diffs = max_list - min_list\n",
    "    for i in np.arange(data.shape[1]):\n",
    "        data[:, i] = (data[:, i]-min_list[i])/diffs[i]\n",
    "    data[data > 1] = 0.99\n",
    "    data[data < 0] = 0.00\n",
    "    return data"
   ]
  },
  {
   "cell_type": "code",
   "execution_count": null,
   "metadata": {},
   "outputs": [],
   "source": [
    "def process_dataset_file(dataset):\n",
    "    # Colums are segmentd into features and labels\n",
    "    data_x = dataset\n",
    "\n",
    "    # Perform linear interpolation\n",
    "    data_x = np.array([Series(i).interpolate() for i in data_x.T]).T\n",
    "\n",
    "    # Remaining missing data are converted to zero\n",
    "    data_x[np.isnan(data_x)] = 0\n",
    "\n",
    "    # All sensor channels are normalized\n",
    "    data_x = normalize(data_x, NORM_MAX_THRESHOLDS, NORM_MIN_THRESHOLDS)\n",
    "\n",
    "    return data_x"
   ]
  },
  {
   "cell_type": "code",
   "execution_count": null,
   "metadata": {},
   "outputs": [],
   "source": [
    "def generate_data(data):\n",
    "    data_x = np.empty((0, 10))\n",
    "    x = process_dataset_file(data)\n",
    "    data_x = np.vstack((data_x, x))\n",
    "\n",
    "    return data_x"
   ]
  },
  {
   "cell_type": "code",
   "execution_count": null,
   "metadata": {},
   "outputs": [],
   "source": [
    "test_data = generate_data(data)"
   ]
  },
  {
   "cell_type": "code",
   "execution_count": null,
   "metadata": {},
   "outputs": [],
   "source": [
    "first_conc_x = np.concatenate(test_data[0:15, :])\n",
    "for i in range(15, test_data.shape[0], 15):\n",
    "    first_conc_x = np.vstack((first_conc_x, np.concatenate(test_data[i:(i+15), :])))\n",
    "test_data_kat = first_conc_x"
   ]
  },
  {
   "cell_type": "code",
   "execution_count": null,
   "metadata": {},
   "outputs": [],
   "source": [
    "clf.predict(test_data_kat).flatten()"
   ]
  },
  {
   "cell_type": "code",
   "execution_count": null,
   "metadata": {},
   "outputs": [],
   "source": []
  },
  {
   "cell_type": "code",
   "execution_count": null,
   "metadata": {},
   "outputs": [],
   "source": []
  }
 ],
 "metadata": {
  "kernelspec": {
   "display_name": "Python 2",
   "language": "python",
   "name": "python2"
  },
  "language_info": {
   "codemirror_mode": {
    "name": "ipython",
    "version": 2
   },
   "file_extension": ".py",
   "mimetype": "text/x-python",
   "name": "python",
   "nbconvert_exporter": "python",
   "pygments_lexer": "ipython2",
   "version": "2.7.15"
  }
 },
 "nbformat": 4,
 "nbformat_minor": 1
}
