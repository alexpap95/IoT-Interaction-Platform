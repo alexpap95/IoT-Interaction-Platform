{
 "cells": [
  {
   "cell_type": "code",
   "execution_count": 1,
   "metadata": {},
   "outputs": [
    {
     "name": "stdout",
     "output_type": "stream",
     "text": [
      "Final dataset with size: | train (50400L, 10L) | test (12600L, 10L) | \n"
     ]
    }
   ],
   "source": [
    "!python preprocess_data.py -i data.dat -o dataset.data"
   ]
  },
  {
   "cell_type": "code",
   "execution_count": 2,
   "metadata": {},
   "outputs": [],
   "source": [
    "import numpy as np\n",
    "import cPickle as cp"
   ]
  },
  {
   "cell_type": "markdown",
   "metadata": {},
   "source": [
    "### Load the sensor data"
   ]
  },
  {
   "cell_type": "raw",
   "metadata": {},
   "source": [
    "Load the OPPORTUNITY processed dataset. Sensor data is segmented using a sliding window of fixed length. The class associated with each segment corresponds to the gesture which has been observed during that interval. Given a sliding window of length T, we choose the class of the sequence as the label at t=T, or in other words, the label of last sample in the window."
   ]
  },
  {
   "cell_type": "code",
   "execution_count": 3,
   "metadata": {},
   "outputs": [],
   "source": [
    "def load_dataset(filename):\n",
    "\n",
    "    f = file(filename, 'rb')\n",
    "    data = cp.load(f)\n",
    "    f.close()\n",
    "\n",
    "    X_train, y_train = data[0]\n",
    "    X_test, y_test = data[1]\n",
    "\n",
    "    print(\" ..from file {}\".format(filename))\n",
    "    print(\" ..reading instances: train {0}, test {1}\".format(X_train.shape, X_test.shape))\n",
    "\n",
    "    X_train = X_train.astype(np.float32)\n",
    "    X_test = X_test.astype(np.float32)\n",
    "\n",
    "    # The targets are casted to int8 for GPU compatibility.\n",
    "    y_train = y_train.astype(np.uint8)\n",
    "    y_test = y_test.astype(np.uint8)\n",
    "\n",
    "    return X_train, y_train, X_test, y_test"
   ]
  },
  {
   "cell_type": "code",
   "execution_count": 4,
   "metadata": {},
   "outputs": [
    {
     "name": "stdout",
     "output_type": "stream",
     "text": [
      "Loading data...\n",
      " ..from file dataset.data\n",
      " ..reading instances: train (50400L, 10L), test (12600L, 10L)\n"
     ]
    }
   ],
   "source": [
    "print(\"Loading data...\")\n",
    "X_train, y_train, X_test, y_test = load_dataset('dataset.data')"
   ]
  },
  {
   "cell_type": "code",
   "execution_count": 5,
   "metadata": {},
   "outputs": [],
   "source": [
    "first_conc_x = np.concatenate(X_train[0:15, :])\n",
    "for i in range(15, X_train.shape[0], 15):\n",
    "    first_conc_x = np.vstack((first_conc_x, np.concatenate(X_train[i:(i+15), :])))\n",
    "X_train_kat = first_conc_x"
   ]
  },
  {
   "cell_type": "code",
   "execution_count": 6,
   "metadata": {},
   "outputs": [],
   "source": [
    "first_conc_y = np.unique(y_train[0:15])[0]\n",
    "for i in range(15, y_train.shape[0], 15):\n",
    "    first_conc_y = np.vstack((first_conc_y, np.unique(y_train[i:(i+15)])[0]))\n",
    "y_train_kat = first_conc_y"
   ]
  },
  {
   "cell_type": "code",
   "execution_count": 7,
   "metadata": {},
   "outputs": [],
   "source": [
    "first_conc_x = np.concatenate(X_test[0:15, :])\n",
    "for i in range(15, X_test.shape[0], 15):\n",
    "    first_conc_x = np.vstack((first_conc_x, np.concatenate(X_test[i:(i+15), :])))\n",
    "X_test_kat = first_conc_x"
   ]
  },
  {
   "cell_type": "code",
   "execution_count": 8,
   "metadata": {},
   "outputs": [],
   "source": [
    "first_conc_y = np.unique(y_test[0:15])[0]\n",
    "for i in range(15, y_test.shape[0], 15):\n",
    "    first_conc_y = np.vstack((first_conc_y, np.unique(y_test[i:(i+15)])[0]))\n",
    "y_test_kat = first_conc_y"
   ]
  },
  {
   "cell_type": "code",
   "execution_count": 9,
   "metadata": {},
   "outputs": [
    {
     "data": {
      "text/plain": [
       "True"
      ]
     },
     "execution_count": 9,
     "metadata": {},
     "output_type": "execute_result"
    }
   ],
   "source": [
    "y_train_kat.shape[0] == X_train_kat.shape[0]"
   ]
  },
  {
   "cell_type": "code",
   "execution_count": 10,
   "metadata": {},
   "outputs": [
    {
     "data": {
      "text/plain": [
       "True"
      ]
     },
     "execution_count": 10,
     "metadata": {},
     "output_type": "execute_result"
    }
   ],
   "source": [
    "y_test_kat.shape[0] == X_test_kat.shape[0]"
   ]
  },
  {
   "cell_type": "code",
   "execution_count": 11,
   "metadata": {},
   "outputs": [],
   "source": [
    "from sklearn.neural_network import MLPClassifier\n",
    "from sklearn.model_selection import train_test_split\n",
    "from sklearn.metrics import accuracy_score\n",
    "from sklearn.metrics import confusion_matrix"
   ]
  },
  {
   "cell_type": "code",
   "execution_count": 12,
   "metadata": {},
   "outputs": [],
   "source": [
    "clf = MLPClassifier(hidden_layer_sizes=(100,100,100), max_iter=200, alpha=0.0001,\n",
    "                     solver='sgd', verbose=1, random_state=21, tol=0.000000001)"
   ]
  },
  {
   "cell_type": "code",
   "execution_count": 13,
   "metadata": {},
   "outputs": [
    {
     "name": "stdout",
     "output_type": "stream",
     "text": [
      "Iteration 1, loss = 1.30273423\n",
      "Iteration 2, loss = 1.03505989\n",
      "Iteration 3, loss = 0.96722282\n",
      "Iteration 4, loss = 0.90772786\n",
      "Iteration 5, loss = 0.85501034\n",
      "Iteration 6, loss = 0.80590836\n",
      "Iteration 7, loss = 0.76036640\n",
      "Iteration 8, loss = 0.71891263\n",
      "Iteration 9, loss = 0.68132020\n",
      "Iteration 10, loss = 0.64683641\n",
      "Iteration 11, loss = 0.61537391\n",
      "Iteration 12, loss = 0.58617416\n",
      "Iteration 13, loss = 0.55959849\n",
      "Iteration 14, loss = 0.53547315\n",
      "Iteration 15, loss = 0.51380886\n",
      "Iteration 16, loss = 0.49325368\n",
      "Iteration 17, loss = 0.47397960\n",
      "Iteration 18, loss = 0.45607853\n",
      "Iteration 19, loss = 0.43920198\n",
      "Iteration 20, loss = 0.42321740\n",
      "Iteration 21, loss = 0.40814168\n",
      "Iteration 22, loss = 0.39380710\n",
      "Iteration 23, loss = 0.38012214\n",
      "Iteration 24, loss = 0.36696654\n",
      "Iteration 25, loss = 0.35467338\n",
      "Iteration 26, loss = 0.34312745\n",
      "Iteration 27, loss = 0.33173138\n",
      "Iteration 28, loss = 0.32120958\n",
      "Iteration 29, loss = 0.31145335\n",
      "Iteration 30, loss = 0.30179286\n",
      "Iteration 31, loss = 0.29253439\n",
      "Iteration 32, loss = 0.28424924\n",
      "Iteration 33, loss = 0.27614770\n",
      "Iteration 34, loss = 0.26849560\n",
      "Iteration 35, loss = 0.26135700\n",
      "Iteration 36, loss = 0.25437229\n",
      "Iteration 37, loss = 0.24708305\n",
      "Iteration 38, loss = 0.24042885\n",
      "Iteration 39, loss = 0.23462337\n",
      "Iteration 40, loss = 0.22900322\n",
      "Iteration 41, loss = 0.22323623\n",
      "Iteration 42, loss = 0.21754200\n",
      "Iteration 43, loss = 0.21234484\n",
      "Iteration 44, loss = 0.20726272\n",
      "Iteration 45, loss = 0.20237188\n",
      "Iteration 46, loss = 0.19801772\n",
      "Iteration 47, loss = 0.19338357\n",
      "Iteration 48, loss = 0.18910912\n",
      "Iteration 49, loss = 0.18510051\n",
      "Iteration 50, loss = 0.18119595\n",
      "Iteration 51, loss = 0.17735569\n",
      "Iteration 52, loss = 0.17372859\n",
      "Iteration 53, loss = 0.17014427\n",
      "Iteration 54, loss = 0.16672654\n",
      "Iteration 55, loss = 0.16370409\n",
      "Iteration 56, loss = 0.16038267\n",
      "Iteration 57, loss = 0.15736890\n",
      "Iteration 58, loss = 0.15431303\n",
      "Iteration 59, loss = 0.15150561\n",
      "Iteration 60, loss = 0.14874599\n",
      "Iteration 61, loss = 0.14597926\n",
      "Iteration 62, loss = 0.14381536\n",
      "Iteration 63, loss = 0.14135311\n",
      "Iteration 64, loss = 0.13867634\n",
      "Iteration 65, loss = 0.13655689\n",
      "Iteration 66, loss = 0.13426777\n",
      "Iteration 67, loss = 0.13261959\n",
      "Iteration 68, loss = 0.13034166\n",
      "Iteration 69, loss = 0.12831086\n",
      "Iteration 70, loss = 0.12641339\n",
      "Iteration 71, loss = 0.12464548\n",
      "Iteration 72, loss = 0.12267942\n",
      "Iteration 73, loss = 0.12080675\n",
      "Iteration 74, loss = 0.11931230\n",
      "Iteration 75, loss = 0.11746601\n",
      "Iteration 76, loss = 0.11596001\n",
      "Iteration 77, loss = 0.11442396\n",
      "Iteration 78, loss = 0.11316506\n",
      "Iteration 79, loss = 0.11148938\n",
      "Iteration 80, loss = 0.11015422\n",
      "Iteration 81, loss = 0.10871752\n",
      "Iteration 82, loss = 0.10745206\n",
      "Iteration 83, loss = 0.10610427\n",
      "Iteration 84, loss = 0.10486043\n",
      "Iteration 85, loss = 0.10373988\n",
      "Iteration 86, loss = 0.10256314\n",
      "Iteration 87, loss = 0.10131650\n",
      "Iteration 88, loss = 0.10045846\n",
      "Iteration 89, loss = 0.09915861\n",
      "Iteration 90, loss = 0.09805238\n",
      "Iteration 91, loss = 0.09714828\n",
      "Iteration 92, loss = 0.09624652\n",
      "Iteration 93, loss = 0.09528939\n",
      "Iteration 94, loss = 0.09417518\n",
      "Iteration 95, loss = 0.09314842\n",
      "Iteration 96, loss = 0.09214119\n",
      "Iteration 97, loss = 0.09135635\n",
      "Iteration 98, loss = 0.09045950\n",
      "Iteration 99, loss = 0.08976632\n",
      "Iteration 100, loss = 0.08880614\n",
      "Iteration 101, loss = 0.08803833\n",
      "Iteration 102, loss = 0.08726185\n",
      "Iteration 103, loss = 0.08669254\n",
      "Iteration 104, loss = 0.08606586\n",
      "Iteration 105, loss = 0.08494376\n",
      "Iteration 106, loss = 0.08417750\n",
      "Iteration 107, loss = 0.08347944\n",
      "Iteration 108, loss = 0.08292641\n",
      "Iteration 109, loss = 0.08227915\n",
      "Iteration 110, loss = 0.08152225\n",
      "Iteration 111, loss = 0.08083227\n",
      "Iteration 112, loss = 0.08008688\n",
      "Iteration 113, loss = 0.07948436\n",
      "Iteration 114, loss = 0.07907005\n",
      "Iteration 115, loss = 0.07812597\n",
      "Iteration 116, loss = 0.07761310\n",
      "Iteration 117, loss = 0.07703722\n",
      "Iteration 118, loss = 0.07655647\n",
      "Iteration 119, loss = 0.07613275\n",
      "Iteration 120, loss = 0.07535766\n",
      "Iteration 121, loss = 0.07472171\n",
      "Iteration 122, loss = 0.07429750\n",
      "Iteration 123, loss = 0.07383441\n",
      "Iteration 124, loss = 0.07316695\n",
      "Iteration 125, loss = 0.07269217\n",
      "Iteration 126, loss = 0.07249704\n",
      "Iteration 127, loss = 0.07152350\n",
      "Iteration 128, loss = 0.07097092\n",
      "Iteration 129, loss = 0.07052340\n",
      "Iteration 130, loss = 0.07005162\n",
      "Iteration 131, loss = 0.06938426\n",
      "Iteration 132, loss = 0.06945145\n",
      "Iteration 133, loss = 0.06910123\n",
      "Iteration 134, loss = 0.06806775\n",
      "Iteration 135, loss = 0.06780158\n",
      "Iteration 136, loss = 0.06714479\n",
      "Iteration 137, loss = 0.06680781\n",
      "Iteration 138, loss = 0.06650796\n",
      "Iteration 139, loss = 0.06592887\n",
      "Iteration 140, loss = 0.06552281\n",
      "Iteration 141, loss = 0.06555737\n",
      "Iteration 142, loss = 0.06468352\n",
      "Iteration 143, loss = 0.06432305\n",
      "Iteration 144, loss = 0.06388592\n",
      "Iteration 145, loss = 0.06350230\n",
      "Iteration 146, loss = 0.06329974\n",
      "Iteration 147, loss = 0.06285161\n",
      "Iteration 148, loss = 0.06255283\n",
      "Iteration 149, loss = 0.06207355\n",
      "Iteration 150, loss = 0.06164992\n",
      "Iteration 151, loss = 0.06126972\n",
      "Iteration 152, loss = 0.06098874\n",
      "Iteration 153, loss = 0.06097283\n",
      "Iteration 154, loss = 0.06022055\n",
      "Iteration 155, loss = 0.05986914\n",
      "Iteration 156, loss = 0.05947278\n",
      "Iteration 157, loss = 0.05942089\n",
      "Iteration 158, loss = 0.05886962\n",
      "Iteration 159, loss = 0.05829585\n",
      "Iteration 160, loss = 0.05847901\n",
      "Iteration 161, loss = 0.05795331\n",
      "Iteration 162, loss = 0.05792014\n",
      "Iteration 163, loss = 0.05706706\n",
      "Iteration 164, loss = 0.05688969\n",
      "Iteration 165, loss = 0.05671584\n",
      "Iteration 166, loss = 0.05636627\n",
      "Iteration 167, loss = 0.05622452\n",
      "Iteration 168, loss = 0.05551338\n",
      "Iteration 169, loss = 0.05520381\n",
      "Iteration 170, loss = 0.05509298\n",
      "Iteration 171, loss = 0.05486765\n",
      "Iteration 172, loss = 0.05433428\n",
      "Iteration 173, loss = 0.05416830\n",
      "Iteration 174, loss = 0.05378673\n",
      "Iteration 175, loss = 0.05395938\n",
      "Iteration 176, loss = 0.05315359\n",
      "Iteration 177, loss = 0.05307852\n",
      "Iteration 178, loss = 0.05274055\n",
      "Iteration 179, loss = 0.05254912\n",
      "Iteration 180, loss = 0.05254714\n",
      "Iteration 181, loss = 0.05192347\n",
      "Iteration 182, loss = 0.05165431\n",
      "Iteration 183, loss = 0.05139952\n",
      "Iteration 184, loss = 0.05109911\n",
      "Iteration 185, loss = 0.05106892\n",
      "Iteration 186, loss = 0.05074428\n",
      "Iteration 187, loss = 0.05041011\n",
      "Iteration 188, loss = 0.05041791\n",
      "Iteration 189, loss = 0.04978189\n",
      "Iteration 190, loss = 0.04956537\n",
      "Iteration 191, loss = 0.04949143\n",
      "Iteration 192, loss = 0.04931892\n",
      "Iteration 193, loss = 0.04892306\n",
      "Iteration 194, loss = 0.04864733\n",
      "Iteration 195, loss = 0.04845529\n",
      "Iteration 196, loss = 0.04822603\n",
      "Iteration 197, loss = 0.04810827\n",
      "Iteration 198, loss = 0.04770844\n",
      "Iteration 199, loss = 0.04734205\n",
      "Iteration 200, loss = 0.04741930\n",
      "Iteration 201, loss = 0.04714153\n",
      "Iteration 202, loss = 0.04674752\n",
      "Iteration 203, loss = 0.04672889\n",
      "Iteration 204, loss = 0.04645074\n",
      "Iteration 205, loss = 0.04604187\n",
      "Iteration 206, loss = 0.04611335\n",
      "Iteration 207, loss = 0.04597185\n",
      "Iteration 208, loss = 0.04602641\n",
      "Iteration 209, loss = 0.04538615\n",
      "Iteration 210, loss = 0.04537492\n",
      "Iteration 211, loss = 0.04490642\n",
      "Iteration 212, loss = 0.04485517\n",
      "Iteration 213, loss = 0.04458704\n",
      "Iteration 214, loss = 0.04492030\n",
      "Iteration 215, loss = 0.04427558\n",
      "Iteration 216, loss = 0.04386552\n",
      "Iteration 217, loss = 0.04377887\n",
      "Iteration 218, loss = 0.04356354\n",
      "Iteration 219, loss = 0.04332810\n",
      "Iteration 220, loss = 0.04339381\n",
      "Iteration 221, loss = 0.04299163\n",
      "Iteration 222, loss = 0.04264339\n",
      "Iteration 223, loss = 0.04249775\n",
      "Iteration 224, loss = 0.04253915\n",
      "Iteration 225, loss = 0.04230639\n",
      "Iteration 226, loss = 0.04220590\n",
      "Iteration 227, loss = 0.04194480\n",
      "Iteration 228, loss = 0.04149367\n",
      "Iteration 229, loss = 0.04126537\n",
      "Iteration 230, loss = 0.04126668\n",
      "Iteration 231, loss = 0.04102647\n",
      "Iteration 232, loss = 0.04093794\n",
      "Iteration 233, loss = 0.04060282\n",
      "Iteration 234, loss = 0.04055016\n",
      "Iteration 235, loss = 0.04034569\n",
      "Iteration 236, loss = 0.04023290\n",
      "Iteration 237, loss = 0.04002347\n",
      "Iteration 238, loss = 0.04029773\n",
      "Iteration 239, loss = 0.03990708\n",
      "Iteration 240, loss = 0.03952889\n",
      "Iteration 241, loss = 0.03933493\n",
      "Iteration 242, loss = 0.03938440\n",
      "Iteration 243, loss = 0.03884691\n",
      "Iteration 244, loss = 0.03879707\n",
      "Iteration 245, loss = 0.03858931\n",
      "Iteration 246, loss = 0.03852544\n",
      "Iteration 247, loss = 0.03827160\n",
      "Iteration 248, loss = 0.03825387\n",
      "Iteration 249, loss = 0.03789228\n",
      "Iteration 250, loss = 0.03773120\n",
      "Iteration 251, loss = 0.03770200\n",
      "Iteration 252, loss = 0.03735233\n",
      "Iteration 253, loss = 0.03739950\n",
      "Iteration 254, loss = 0.03726726\n"
     ]
    },
    {
     "name": "stdout",
     "output_type": "stream",
     "text": [
      "Iteration 255, loss = 0.03711301\n",
      "Iteration 256, loss = 0.03693919\n",
      "Iteration 257, loss = 0.03675196\n",
      "Iteration 258, loss = 0.03660014\n",
      "Iteration 259, loss = 0.03644858\n",
      "Iteration 260, loss = 0.03627801\n",
      "Iteration 261, loss = 0.03615099\n",
      "Iteration 262, loss = 0.03592963\n",
      "Iteration 263, loss = 0.03579690\n",
      "Iteration 264, loss = 0.03570999\n",
      "Iteration 265, loss = 0.03586783\n",
      "Iteration 266, loss = 0.03543364\n",
      "Iteration 267, loss = 0.03542136\n",
      "Iteration 268, loss = 0.03518881\n",
      "Iteration 269, loss = 0.03506187\n",
      "Iteration 270, loss = 0.03498656\n",
      "Iteration 271, loss = 0.03476905\n",
      "Iteration 272, loss = 0.03455870\n",
      "Iteration 273, loss = 0.03463323\n",
      "Iteration 274, loss = 0.03443644\n",
      "Iteration 275, loss = 0.03418078\n",
      "Iteration 276, loss = 0.03434500\n",
      "Iteration 277, loss = 0.03405731\n",
      "Iteration 278, loss = 0.03371604\n",
      "Iteration 279, loss = 0.03363327\n",
      "Iteration 280, loss = 0.03352132\n",
      "Iteration 281, loss = 0.03348851\n",
      "Iteration 282, loss = 0.03344232\n",
      "Iteration 283, loss = 0.03327198\n",
      "Iteration 284, loss = 0.03352101\n",
      "Iteration 285, loss = 0.03313832\n",
      "Iteration 286, loss = 0.03295692\n",
      "Iteration 287, loss = 0.03250488\n",
      "Iteration 288, loss = 0.03252924\n",
      "Iteration 289, loss = 0.03261636\n",
      "Iteration 290, loss = 0.03231958\n",
      "Iteration 291, loss = 0.03200489\n",
      "Iteration 292, loss = 0.03191405\n",
      "Iteration 293, loss = 0.03205077\n",
      "Iteration 294, loss = 0.03189257\n",
      "Iteration 295, loss = 0.03176088\n",
      "Iteration 296, loss = 0.03148919\n",
      "Iteration 297, loss = 0.03137783\n",
      "Iteration 298, loss = 0.03129569\n",
      "Iteration 299, loss = 0.03141561\n",
      "Iteration 300, loss = 0.03133450\n",
      "Iteration 301, loss = 0.03101640\n",
      "Iteration 302, loss = 0.03098584\n",
      "Iteration 303, loss = 0.03078811\n",
      "Iteration 304, loss = 0.03064341\n",
      "Iteration 305, loss = 0.03041453\n",
      "Iteration 306, loss = 0.03034744\n",
      "Iteration 307, loss = 0.03045855\n",
      "Iteration 308, loss = 0.03033570\n",
      "Iteration 309, loss = 0.02988474\n",
      "Iteration 310, loss = 0.02997077\n",
      "Iteration 311, loss = 0.03001550\n",
      "Iteration 312, loss = 0.02972005\n",
      "Iteration 313, loss = 0.02964370\n",
      "Iteration 314, loss = 0.02980126\n",
      "Iteration 315, loss = 0.02985903\n",
      "Iteration 316, loss = 0.02921833\n",
      "Iteration 317, loss = 0.02923111\n",
      "Iteration 318, loss = 0.02913280\n",
      "Iteration 319, loss = 0.02897067\n",
      "Iteration 320, loss = 0.02886171\n",
      "Iteration 321, loss = 0.02883313\n",
      "Iteration 322, loss = 0.02854245\n",
      "Iteration 323, loss = 0.02863562\n",
      "Iteration 324, loss = 0.02856751\n",
      "Iteration 325, loss = 0.02859780\n",
      "Training loss did not improve more than tol=0.000000 for two consecutive epochs. Stopping.\n"
     ]
    },
    {
     "data": {
      "text/plain": [
       "MLPClassifier(activation='relu', alpha=0.0001, batch_size='auto', beta_1=0.9,\n",
       "       beta_2=0.999, early_stopping=False, epsilon=1e-08,\n",
       "       hidden_layer_sizes=(100, 100, 100), learning_rate='constant',\n",
       "       learning_rate_init=0.001, max_iter=1000, momentum=0.9,\n",
       "       nesterovs_momentum=True, power_t=0.5, random_state=21, shuffle=True,\n",
       "       solver='sgd', tol=1e-09, validation_fraction=0.1, verbose=1,\n",
       "       warm_start=False)"
      ]
     },
     "execution_count": 13,
     "metadata": {},
     "output_type": "execute_result"
    }
   ],
   "source": [
    "clf.fit(X_train_kat, y_train_kat.flatten())"
   ]
  },
  {
   "cell_type": "code",
   "execution_count": 14,
   "metadata": {},
   "outputs": [],
   "source": [
    "y_pred_kat = clf.predict(X_test_kat)"
   ]
  },
  {
   "cell_type": "code",
   "execution_count": 15,
   "metadata": {},
   "outputs": [
    {
     "data": {
      "text/plain": [
       "0.986904761904762"
      ]
     },
     "execution_count": 15,
     "metadata": {},
     "output_type": "execute_result"
    }
   ],
   "source": [
    "accuracy_score(y_test_kat.flatten(), y_pred_kat)\n"
   ]
  },
  {
   "cell_type": "markdown",
   "metadata": {},
   "source": [
    "### Test Dataset"
   ]
  },
  {
   "cell_type": "code",
   "execution_count": 16,
   "metadata": {},
   "outputs": [],
   "source": [
    "import os\n",
    "import zipfile\n",
    "import argparse\n",
    "import numpy as np\n",
    "import cPickle as cp\n",
    "from io import BytesIO\n",
    "from pandas import Series\n",
    "import random"
   ]
  },
  {
   "cell_type": "code",
   "execution_count": 17,
   "metadata": {},
   "outputs": [],
   "source": [
    "data = np.genfromtxt('testdata.csv', delimiter=',')"
   ]
  },
  {
   "cell_type": "code",
   "execution_count": 18,
   "metadata": {},
   "outputs": [],
   "source": [
    "NB_SENSOR_CHANNELS = 10\n",
    "\n",
    "NORM_MAX_THRESHOLDS = [200, 200, 200, 250000, 250000, 250000, 100, 100, 100, 100]\n",
    "\n",
    "NORM_MIN_THRESHOLDS = [-200, -200, -200, -250000, -250000, -250000, -100, -100, -100, -100]"
   ]
  },
  {
   "cell_type": "code",
   "execution_count": 19,
   "metadata": {},
   "outputs": [],
   "source": [
    "def normalize(data, max_list, min_list):\n",
    "    max_list, min_list = np.array(max_list), np.array(min_list)\n",
    "    diffs = max_list - min_list\n",
    "    for i in np.arange(data.shape[1]):\n",
    "        data[:, i] = (data[:, i]-min_list[i])/diffs[i]\n",
    "    data[data > 1] = 0.99\n",
    "    data[data < 0] = 0.00\n",
    "    return data"
   ]
  },
  {
   "cell_type": "code",
   "execution_count": 20,
   "metadata": {},
   "outputs": [],
   "source": [
    "def process_dataset_file(dataset):\n",
    "    # Colums are segmentd into features and labels\n",
    "    data_x = data\n",
    "\n",
    "    # Perform linear interpolation\n",
    "    data_x = np.array([Series(i).interpolate() for i in data_x.T]).T\n",
    "\n",
    "    # Remaining missing data are converted to zero\n",
    "    data_x[np.isnan(data_x)] = 0\n",
    "\n",
    "    # All sensor channels are normalized\n",
    "    data_x = normalize(data_x, NORM_MAX_THRESHOLDS, NORM_MIN_THRESHOLDS)\n",
    "\n",
    "    return data_x"
   ]
  },
  {
   "cell_type": "code",
   "execution_count": 21,
   "metadata": {},
   "outputs": [],
   "source": [
    "def generate_data(data):\n",
    "    data_x = np.empty((0, 10))\n",
    "    x = process_dataset_file(data)\n",
    "    data_x = np.vstack((data_x, x))\n",
    "\n",
    "    return data_x"
   ]
  },
  {
   "cell_type": "code",
   "execution_count": 22,
   "metadata": {},
   "outputs": [],
   "source": [
    "test_data = generate_data(data)"
   ]
  },
  {
   "cell_type": "code",
   "execution_count": 23,
   "metadata": {},
   "outputs": [],
   "source": [
    "first_conc_x = np.concatenate(test_data[0:15, :])\n",
    "for i in range(15, test_data.shape[0], 15):\n",
    "    first_conc_x = np.vstack((first_conc_x, np.concatenate(test_data[i:(i+15), :])))\n",
    "test_data_kat = first_conc_x"
   ]
  },
  {
   "cell_type": "code",
   "execution_count": 24,
   "metadata": {},
   "outputs": [
    {
     "data": {
      "text/plain": [
       "array([4, 4, 2, 2, 2, 2, 2, 2, 2, 2, 2, 2, 2, 2, 2, 2, 2, 2, 2, 2, 3, 3,\n",
       "       3, 3, 3, 3, 3, 3, 3, 3, 4, 4, 4, 4, 4, 4, 4, 4, 4, 4, 2, 2, 2, 2,\n",
       "       2, 2, 2, 2, 2, 2, 2, 2, 4, 2, 4, 4, 2, 2, 4, 4, 1, 2, 2, 2, 2, 2,\n",
       "       2, 2, 2, 2], dtype=uint8)"
      ]
     },
     "execution_count": 24,
     "metadata": {},
     "output_type": "execute_result"
    }
   ],
   "source": [
    "clf.predict(test_data_kat).flatten()"
   ]
  },
  {
   "cell_type": "code",
   "execution_count": null,
   "metadata": {},
   "outputs": [],
   "source": []
  },
  {
   "cell_type": "code",
   "execution_count": null,
   "metadata": {},
   "outputs": [],
   "source": []
  }
 ],
 "metadata": {
  "kernelspec": {
   "display_name": "Python 2",
   "language": "python",
   "name": "python2"
  },
  "language_info": {
   "codemirror_mode": {
    "name": "ipython",
    "version": 2
   },
   "file_extension": ".py",
   "mimetype": "text/x-python",
   "name": "python",
   "nbconvert_exporter": "python",
   "pygments_lexer": "ipython2",
   "version": "2.7.15"
  }
 },
 "nbformat": 4,
 "nbformat_minor": 1
}
